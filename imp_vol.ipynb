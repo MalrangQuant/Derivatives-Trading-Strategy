{
 "cells": [
  {
   "cell_type": "code",
   "execution_count": 71,
   "metadata": {},
   "outputs": [],
   "source": [
    "import numpy as np\n",
    "import pandas as pd\n",
    "import matplotlib.pyplot as plt\n",
    "\n",
    "from scipy.stats import norm\n",
    "from warnings import filterwarnings\n",
    "filterwarnings('ignore')\n",
    "from delta_hedging import delta_hedging"
   ]
  },
  {
   "cell_type": "code",
   "execution_count": 28,
   "metadata": {},
   "outputs": [],
   "source": [
    "def bs_call(s0, k, rf, q, sigma, tau):\n",
    "    '''PutCall for 'c', 'p' '''\n",
    "    d1 = (np.log(s0/k) +((rf - q +0.5*np.power(sigma, 2))*tau))/(sigma*np.sqrt(tau))\n",
    "    d2 = d1 - sigma*np.sqrt(tau)\n",
    "    value = s0*norm.cdf(d1) - k*np.exp(-rf*tau)*norm.cdf(d2)\n",
    "\n",
    "    return value\n",
    "\n",
    "def stock_path(mu, q, sigma, dt, T, simul=10000):\n",
    "\n",
    "    value = np.ones((2, simul)) * s0\n",
    "\n",
    "    for idx in range(1, T + 1):\n",
    "        d_term = (mu - q - 0.5 * sigma**2) * dt\n",
    "        s_term = sigma * np.sqrt(dt) * np.random.normal(size=(simul))\n",
    "\n",
    "        value = np.vstack([value, value[-1] * np.exp(d_term + s_term)])\n",
    "        \n",
    "    value = value[1:]\n",
    "\n",
    "    return value\n"
   ]
  },
  {
   "cell_type": "code",
   "execution_count": 40,
   "metadata": {},
   "outputs": [
    {
     "data": {
      "text/plain": [
       "4092.0174385438695"
      ]
     },
     "execution_count": 40,
     "metadata": {},
     "output_type": "execute_result"
    }
   ],
   "source": [
    "''' T는 전체 기간, dt는 time step, tau 는 T x dt '''\n",
    "s0 = 50000; k = 55000; q=0; rf = 0.04; sigma=0.4; T=130; dt=1/260; tau=T*dt\n",
    "bs_call(s0, k, rf, q, sigma, tau)"
   ]
  },
  {
   "cell_type": "code",
   "execution_count": 45,
   "metadata": {},
   "outputs": [],
   "source": [
    "mu=0.04; q=0\n",
    "path = stock_path(mu, q, sigma, dt, T, simul=10000)"
   ]
  },
  {
   "cell_type": "markdown",
   "metadata": {},
   "source": [
    "## IV change"
   ]
  },
  {
   "cell_type": "code",
   "execution_count": null,
   "metadata": {},
   "outputs": [],
   "source": [
    "['sigma=40%', 'sigma=34%', 'sigma=46%']"
   ]
  },
  {
   "cell_type": "code",
   "execution_count": 69,
   "metadata": {},
   "outputs": [
    {
     "data": {
      "text/html": [
       "<div>\n",
       "<style scoped>\n",
       "    .dataframe tbody tr th:only-of-type {\n",
       "        vertical-align: middle;\n",
       "    }\n",
       "\n",
       "    .dataframe tbody tr th {\n",
       "        vertical-align: top;\n",
       "    }\n",
       "\n",
       "    .dataframe thead th {\n",
       "        text-align: right;\n",
       "    }\n",
       "</style>\n",
       "<table border=\"1\" class=\"dataframe\">\n",
       "  <thead>\n",
       "    <tr style=\"text-align: right;\">\n",
       "      <th></th>\n",
       "      <th>sigma=40%</th>\n",
       "      <th>sigma=34%</th>\n",
       "      <th>sigma=46%</th>\n",
       "    </tr>\n",
       "  </thead>\n",
       "  <tbody>\n",
       "    <tr>\n",
       "      <th>0</th>\n",
       "      <td>4092.017439</td>\n",
       "      <td>3256.344523</td>\n",
       "      <td>4934.297619</td>\n",
       "    </tr>\n",
       "  </tbody>\n",
       "</table>\n",
       "</div>"
      ],
      "text/plain": [
       "     sigma=40%    sigma=34%    sigma=46%\n",
       "0  4092.017439  3256.344523  4934.297619"
      ]
     },
     "execution_count": 69,
     "metadata": {},
     "output_type": "execute_result"
    }
   ],
   "source": [
    "sigma1 = 0.34; sigma2 = 0.46\n",
    "ori_call_value = bs_call(s0, k, rf, q, sigma, tau)\n",
    "over_call_value = bs_call(s0, k, rf, q, sigma1, tau)\n",
    "under_call_value = bs_call(s0, k, rf, q, sigma2, tau)\n",
    "\n",
    "call_value_table = pd.DataFrame(data=[ori_call_value, over_call_value, under_call_value], index=['sigma=40%', 'sigma=34%', 'sigma=46%']).T\n",
    "call_value_table"
   ]
  },
  {
   "cell_type": "code",
   "execution_count": 70,
   "metadata": {},
   "outputs": [
    {
     "data": {
      "text/plain": [
       "array([[50000.        , 50000.        , 50000.        , ...,\n",
       "        50000.        , 50000.        , 50000.        ],\n",
       "       [48350.61618489, 50359.980957  , 50445.24212806, ...,\n",
       "        48683.54190527, 48883.94287887, 50033.71230235],\n",
       "       [47455.76810695, 50170.49236866, 51878.62778788, ...,\n",
       "        45889.31418564, 48530.0145482 , 50137.62995551],\n",
       "       ...,\n",
       "       [52646.79019726, 39641.67388136, 35748.82997789, ...,\n",
       "        45175.49239506, 37520.02648062, 22953.01327269],\n",
       "       [52029.77521638, 40760.15975332, 36243.56335801, ...,\n",
       "        46779.24030015, 38688.61635202, 23345.2604761 ],\n",
       "       [52811.01999557, 40588.19964387, 36975.11698505, ...,\n",
       "        47033.99645451, 38032.67734898, 22372.40444544]])"
      ]
     },
     "execution_count": 70,
     "metadata": {},
     "output_type": "execute_result"
    }
   ],
   "source": [
    "pat"
   ]
  },
  {
   "cell_type": "code",
   "execution_count": 76,
   "metadata": {},
   "outputs": [],
   "source": [
    "inputs = {\n",
    "    's0' : 50000,\n",
    "    'k' : 55000,\n",
    "    'rf' : 0.04,\n",
    "    'sigma' : 0.4,\n",
    "    'imvol' : 0.4,\n",
    "    'T' : 1,\n",
    "    'mu' : 0.04,\n",
    "    'q' : 0,\n",
    "    'interval' : 1/260,\n",
    "    'time_step' : 130,\n",
    "    'simul_num' : 10000,\n",
    "    'num_shares' : 100000\n",
    "}\n",
    "dh = delta_hedging(inputs)"
   ]
  },
  {
   "cell_type": "code",
   "execution_count": 81,
   "metadata": {},
   "outputs": [
    {
     "data": {
      "text/plain": [
       "4092.0174385438695"
      ]
     },
     "execution_count": 81,
     "metadata": {},
     "output_type": "execute_result"
    }
   ],
   "source": [
    "dh.bs_call('c')"
   ]
  },
  {
   "cell_type": "code",
   "execution_count": 141,
   "metadata": {},
   "outputs": [
    {
     "data": {
      "text/plain": [
       "array([4.50324976e-01, 3.92541878e-01, 3.79393515e-01, 4.00175118e-01,\n",
       "       3.97134235e-01, 4.24622324e-01, 3.85053972e-01, 3.51248508e-01,\n",
       "       4.21256122e-01, 4.02488845e-01, 3.79505609e-01, 4.40653092e-01,\n",
       "       4.14678016e-01, 3.77284295e-01, 3.87922254e-01, 3.91220039e-01,\n",
       "       4.15297074e-01, 4.25862505e-01, 4.24827866e-01, 3.98701721e-01,\n",
       "       4.06362207e-01, 3.91022631e-01, 3.76631393e-01, 4.09631324e-01,\n",
       "       4.93654234e-01, 5.01730583e-01, 4.29736139e-01, 4.51592574e-01,\n",
       "       3.91642599e-01, 3.57257630e-01, 3.76332825e-01, 3.97158465e-01,\n",
       "       2.94287576e-01, 2.87636026e-01, 2.58614498e-01, 2.11579129e-01,\n",
       "       2.03361895e-01, 1.92412070e-01, 2.03706489e-01, 1.52433094e-01,\n",
       "       1.10083910e-01, 1.06955956e-01, 9.68282864e-02, 9.06383125e-02,\n",
       "       9.33715046e-02, 1.15601514e-01, 1.36596971e-01, 1.68354838e-01,\n",
       "       1.40954398e-01, 1.22084422e-01, 1.29367188e-01, 1.68567044e-01,\n",
       "       1.64979721e-01, 1.27029281e-01, 1.59840854e-01, 1.37280172e-01,\n",
       "       1.45535686e-01, 1.39300418e-01, 1.03705537e-01, 1.09121103e-01,\n",
       "       1.23895755e-01, 9.33952392e-02, 1.16335889e-01, 9.56312902e-02,\n",
       "       1.18418627e-01, 1.49055551e-01, 1.46875828e-01, 1.43387050e-01,\n",
       "       1.51828062e-01, 1.77727851e-01, 1.65645118e-01, 2.29993277e-01,\n",
       "       1.86841787e-01, 1.58075113e-01, 2.14075134e-01, 2.42218753e-01,\n",
       "       2.87140808e-01, 2.48152882e-01, 2.37257483e-01, 3.40817084e-01,\n",
       "       2.45857960e-01, 2.05186714e-01, 1.08498601e-01, 8.69333939e-02,\n",
       "       7.48223194e-02, 7.16300939e-02, 5.37750805e-02, 6.49271078e-02,\n",
       "       9.09562150e-02, 8.43393433e-02, 4.64169961e-02, 5.19904617e-02,\n",
       "       4.08856463e-02, 4.79504172e-02, 6.69896254e-02, 6.37925361e-02,\n",
       "       8.44181410e-02, 5.36138448e-02, 6.02765551e-02, 4.65693900e-02,\n",
       "       4.54831806e-02, 2.93001272e-02, 1.89241384e-02, 1.24027350e-02,\n",
       "       1.61367766e-02, 3.01337077e-02, 3.26079677e-02, 6.99737048e-02,\n",
       "       6.31604802e-02, 1.01076862e-01, 1.11359675e-01, 4.49471155e-02,\n",
       "       1.60284832e-02, 9.41430012e-03, 1.90932153e-02, 1.25547074e-02,\n",
       "       1.24685425e-02, 1.45566324e-02, 9.86362730e-03, 1.20172272e-02,\n",
       "       4.99204448e-03, 4.99348385e-03, 5.33883159e-03, 2.17258082e-03,\n",
       "       4.28668116e-03, 3.13840371e-03, 9.83361571e-04, 6.67673430e-06,\n",
       "       1.40074475e-08, 4.08044322e-19, 0.00000000e+00])"
      ]
     },
     "execution_count": 141,
     "metadata": {},
     "output_type": "execute_result"
    }
   ],
   "source": [
    "tmp"
   ]
  },
  {
   "cell_type": "code",
   "execution_count": 144,
   "metadata": {},
   "outputs": [
    {
     "data": {
      "text/plain": [
       "array([[2.25162488e+04],\n",
       "       [1.88374831e+04],\n",
       "       [1.80454214e+04],\n",
       "       [1.93398114e+04],\n",
       "       [1.91649788e+04],\n",
       "       [2.09129040e+04],\n",
       "       [1.84488947e+04],\n",
       "       [1.64318107e+04],\n",
       "       [2.07401676e+04],\n",
       "       [1.95704965e+04],\n",
       "       [1.81686288e+04],\n",
       "       [2.20322376e+04],\n",
       "       [2.03797139e+04],\n",
       "       [1.80779304e+04],\n",
       "       [1.87420235e+04],\n",
       "       [1.89596090e+04],\n",
       "       [2.04767759e+04],\n",
       "       [2.11629090e+04],\n",
       "       [2.11112208e+04],\n",
       "       [1.94815510e+04],\n",
       "       [1.99736558e+04],\n",
       "       [1.90369964e+04],\n",
       "       [1.81734445e+04],\n",
       "       [2.02229533e+04],\n",
       "       [2.57498148e+04],\n",
       "       [2.63187692e+04],\n",
       "       [2.15410370e+04],\n",
       "       [2.29701536e+04],\n",
       "       [1.91814301e+04],\n",
       "       [1.71195932e+04],\n",
       "       [1.82784859e+04],\n",
       "       [1.95675229e+04],\n",
       "       [1.35457372e+04],\n",
       "       [1.31920057e+04],\n",
       "       [1.16254797e+04],\n",
       "       [9.17671754e+03],\n",
       "       [8.77260604e+03],\n",
       "       [8.23500176e+03],\n",
       "       [8.81693332e+03],\n",
       "       [6.30595869e+03],\n",
       "       [4.35244165e+03],\n",
       "       [4.22090248e+03],\n",
       "       [3.77883859e+03],\n",
       "       [3.51478792e+03],\n",
       "       [3.64276200e+03],\n",
       "       [4.64908792e+03],\n",
       "       [5.63342353e+03],\n",
       "       [7.17230384e+03],\n",
       "       [5.86176099e+03],\n",
       "       [4.98726605e+03],\n",
       "       [5.33730589e+03],\n",
       "       [7.23416590e+03],\n",
       "       [7.07073839e+03],\n",
       "       [5.26027205e+03],\n",
       "       [6.84470078e+03],\n",
       "       [5.76758711e+03],\n",
       "       [6.17522846e+03],\n",
       "       [5.88776680e+03],\n",
       "       [4.23138565e+03],\n",
       "       [4.49025548e+03],\n",
       "       [5.19054732e+03],\n",
       "       [3.79067014e+03],\n",
       "       [4.85751799e+03],\n",
       "       [3.91100214e+03],\n",
       "       [4.97757906e+03],\n",
       "       [6.46109267e+03],\n",
       "       [6.36785765e+03],\n",
       "       [6.21090620e+03],\n",
       "       [6.63786179e+03],\n",
       "       [7.94579258e+03],\n",
       "       [7.35258783e+03],\n",
       "       [1.06932088e+04],\n",
       "       [8.45708897e+03],\n",
       "       [7.01887268e+03],\n",
       "       [9.90427372e+03],\n",
       "       [1.14204263e+04],\n",
       "       [1.39046475e+04],\n",
       "       [1.17787675e+04],\n",
       "       [1.12098579e+04],\n",
       "       [1.70254536e+04],\n",
       "       [1.17123642e+04],\n",
       "       [9.56326286e+03],\n",
       "       [4.72081689e+03],\n",
       "       [3.71268509e+03],\n",
       "       [3.16151835e+03],\n",
       "       [3.02448242e+03],\n",
       "       [2.22391364e+03],\n",
       "       [2.73629391e+03],\n",
       "       [3.95889436e+03],\n",
       "       [3.65780553e+03],\n",
       "       [1.92533980e+03],\n",
       "       [2.18313542e+03],\n",
       "       [1.69326863e+03],\n",
       "       [2.01661362e+03],\n",
       "       [2.89923579e+03],\n",
       "       [2.76058621e+03],\n",
       "       [3.74581402e+03],\n",
       "       [2.30852819e+03],\n",
       "       [2.62714272e+03],\n",
       "       [2.00231112e+03],\n",
       "       [1.96090248e+03],\n",
       "       [1.23508933e+03],\n",
       "       [7.82328909e+02],\n",
       "       [5.04456476e+02],\n",
       "       [6.68887507e+02],\n",
       "       [1.29776480e+03],\n",
       "       [1.41762938e+03],\n",
       "       [3.19467058e+03],\n",
       "       [2.87836591e+03],\n",
       "       [4.76251192e+03],\n",
       "       [5.30070592e+03],\n",
       "       [2.03991859e+03],\n",
       "       [6.97690061e+02],\n",
       "       [4.04020946e+02],\n",
       "       [8.48608120e+02],\n",
       "       [5.52979490e+02],\n",
       "       [5.53324824e+02],\n",
       "       [6.54728350e+02],\n",
       "       [4.41551422e+02],\n",
       "       [5.46173542e+02],\n",
       "       [2.23286450e+02],\n",
       "       [2.25785229e+02],\n",
       "       [2.44572586e+02],\n",
       "       [9.87741540e+01],\n",
       "       [2.00407083e+02],\n",
       "       [1.47989671e+02],\n",
       "       [4.63000533e+01],\n",
       "       [3.04140503e-01],\n",
       "       [6.33444717e-04],\n",
       "       [1.80069391e-14],\n",
       "       [0.00000000e+00]])"
      ]
     },
     "execution_count": 144,
     "metadata": {},
     "output_type": "execute_result"
    }
   ],
   "source": [
    "stock_prices.values * delta_path.values"
   ]
  },
  {
   "cell_type": "code",
   "execution_count": 161,
   "metadata": {},
   "outputs": [
    {
     "data": {
      "text/html": [
       "<div>\n",
       "<style scoped>\n",
       "    .dataframe tbody tr th:only-of-type {\n",
       "        vertical-align: middle;\n",
       "    }\n",
       "\n",
       "    .dataframe tbody tr th {\n",
       "        vertical-align: top;\n",
       "    }\n",
       "\n",
       "    .dataframe thead th {\n",
       "        text-align: right;\n",
       "    }\n",
       "</style>\n",
       "<table border=\"1\" class=\"dataframe\">\n",
       "  <thead>\n",
       "    <tr style=\"text-align: right;\">\n",
       "      <th></th>\n",
       "      <th>S</th>\n",
       "      <th>Delta</th>\n",
       "      <th>#Buy_ch</th>\n",
       "      <th>#Cost_ch</th>\n",
       "      <th>#Cum_Cost</th>\n",
       "    </tr>\n",
       "  </thead>\n",
       "  <tbody>\n",
       "    <tr>\n",
       "      <th>0</th>\n",
       "      <td>50000.0</td>\n",
       "      <td>0.5</td>\n",
       "      <td>45032.5</td>\n",
       "      <td>2.251625e+09</td>\n",
       "      <td>2.251625e+09</td>\n",
       "    </tr>\n",
       "    <tr>\n",
       "      <th>1</th>\n",
       "      <td>50188.7</td>\n",
       "      <td>0.5</td>\n",
       "      <td>445.4</td>\n",
       "      <td>3.085123e+07</td>\n",
       "      <td>2.284208e+09</td>\n",
       "    </tr>\n",
       "    <tr>\n",
       "      <th>2</th>\n",
       "      <td>49527.4</td>\n",
       "      <td>0.4</td>\n",
       "      <td>-1949.6</td>\n",
       "      <td>-1.266335e+08</td>\n",
       "      <td>2.159332e+09</td>\n",
       "    </tr>\n",
       "    <tr>\n",
       "      <th>3</th>\n",
       "      <td>51269.4</td>\n",
       "      <td>0.5</td>\n",
       "      <td>4813.4</td>\n",
       "      <td>3.226057e+08</td>\n",
       "      <td>2.483598e+09</td>\n",
       "    </tr>\n",
       "    <tr>\n",
       "      <th>4</th>\n",
       "      <td>49233.8</td>\n",
       "      <td>0.4</td>\n",
       "      <td>-5832.9</td>\n",
       "      <td>-3.855762e+08</td>\n",
       "      <td>2.099933e+09</td>\n",
       "    </tr>\n",
       "    <tr>\n",
       "      <th>...</th>\n",
       "      <td>...</td>\n",
       "      <td>...</td>\n",
       "      <td>...</td>\n",
       "      <td>...</td>\n",
       "      <td>...</td>\n",
       "    </tr>\n",
       "    <tr>\n",
       "      <th>126</th>\n",
       "      <td>97274.6</td>\n",
       "      <td>1.0</td>\n",
       "      <td>0.0</td>\n",
       "      <td>2.130292e+08</td>\n",
       "      <td>1.021735e+10</td>\n",
       "    </tr>\n",
       "    <tr>\n",
       "      <th>127</th>\n",
       "      <td>97527.1</td>\n",
       "      <td>1.0</td>\n",
       "      <td>0.0</td>\n",
       "      <td>2.524183e+07</td>\n",
       "      <td>1.025046e+10</td>\n",
       "    </tr>\n",
       "    <tr>\n",
       "      <th>128</th>\n",
       "      <td>97735.7</td>\n",
       "      <td>1.0</td>\n",
       "      <td>0.0</td>\n",
       "      <td>2.086953e+07</td>\n",
       "      <td>1.027921e+10</td>\n",
       "    </tr>\n",
       "    <tr>\n",
       "      <th>129</th>\n",
       "      <td>98387.9</td>\n",
       "      <td>1.0</td>\n",
       "      <td>0.0</td>\n",
       "      <td>6.521958e+07</td>\n",
       "      <td>1.035234e+10</td>\n",
       "    </tr>\n",
       "    <tr>\n",
       "      <th>130</th>\n",
       "      <td>101439.3</td>\n",
       "      <td>1.0</td>\n",
       "      <td>0.0</td>\n",
       "      <td>3.051406e+08</td>\n",
       "      <td>1.066544e+10</td>\n",
       "    </tr>\n",
       "  </tbody>\n",
       "</table>\n",
       "<p>131 rows × 5 columns</p>\n",
       "</div>"
      ],
      "text/plain": [
       "            S  Delta  #Buy_ch      #Cost_ch     #Cum_Cost\n",
       "0     50000.0    0.5  45032.5  2.251625e+09  2.251625e+09\n",
       "1     50188.7    0.5    445.4  3.085123e+07  2.284208e+09\n",
       "2     49527.4    0.4  -1949.6 -1.266335e+08  2.159332e+09\n",
       "3     51269.4    0.5   4813.4  3.226057e+08  2.483598e+09\n",
       "4     49233.8    0.4  -5832.9 -3.855762e+08  2.099933e+09\n",
       "..        ...    ...      ...           ...           ...\n",
       "126   97274.6    1.0      0.0  2.130292e+08  1.021735e+10\n",
       "127   97527.1    1.0      0.0  2.524183e+07  1.025046e+10\n",
       "128   97735.7    1.0      0.0  2.086953e+07  1.027921e+10\n",
       "129   98387.9    1.0      0.0  6.521958e+07  1.035234e+10\n",
       "130  101439.3    1.0      0.0  3.051406e+08  1.066544e+10\n",
       "\n",
       "[131 rows x 5 columns]"
      ]
     },
     "execution_count": 161,
     "metadata": {},
     "output_type": "execute_result"
    }
   ],
   "source": [
    "df = pd.DataFrame()\n",
    "\n",
    "'''주가 생성'''\n",
    "path = dh.stock_path()\n",
    "stock_prices = pd.DataFrame(path[:,0], columns=['S'])\n",
    "\n",
    "'''델타 생성'''\n",
    "tmp = dh.path_delta(path)[:,0]\n",
    "delta_path = pd.DataFrame(tmp, columns=['Delta'])\n",
    "\n",
    "'''사야되는 델타 값'''\n",
    "delta_shares = dh.path_changes(dh.path_delta_shares(path))[:,0]\n",
    "delta_shares = pd.DataFrame(delta_shares, columns=['#Buy_ch'])\n",
    "\n",
    "'''Cost'''\n",
    "cost = dh.path_changes(dh.path_delta_shares_cost(path))[:,0]\n",
    "cost = pd.DataFrame(cost, columns=['#Cost_ch'])\n",
    "\n",
    "'''Cum Cost'''\n",
    "cum_cost = dh.path_delta_hedged_cum(path)[:,0]\n",
    "cum_cost = pd.DataFrame(cum_cost, columns=['#Cum_Cost'])\n",
    "\n",
    "'''Int Cost'''\n",
    "int_cost = dh.delta_hedging_int_cost(path)[:,0]\n",
    "int_cost = pd.DataFrame(int_cost, columns=['Int_Cost'])\n",
    "\n",
    "'''합치기'''\n",
    "df = pd.concat([df, stock_prices, delta_path, delta_shares, cost, cum_cost], axis=1)\n",
    "np.round(df,1)"
   ]
  },
  {
   "cell_type": "code",
   "execution_count": 117,
   "metadata": {},
   "outputs": [
    {
     "data": {
      "text/plain": [
       "0      22516.248803\n",
       "1      21193.040719\n",
       "2      20440.499580\n",
       "3      23445.191287\n",
       "4      23104.539777\n",
       "           ...     \n",
       "126    52620.980942\n",
       "127    61448.981082\n",
       "128    59808.652329\n",
       "129    56068.741134\n",
       "130    58456.175703\n",
       "Length: 131, dtype: float64"
      ]
     },
     "execution_count": 117,
     "metadata": {},
     "output_type": "execute_result"
    }
   ],
   "source": [
    "df['S'] * df['#Delta']"
   ]
  },
  {
   "cell_type": "code",
   "execution_count": null,
   "metadata": {},
   "outputs": [],
   "source": []
  },
  {
   "cell_type": "code",
   "execution_count": 22,
   "metadata": {},
   "outputs": [
    {
     "data": {
      "text/plain": [
       "2.4005273232717137"
      ]
     },
     "execution_count": 22,
     "metadata": {},
     "output_type": "execute_result"
    }
   ],
   "source": [
    "s0 = 49; k = 50; q=0; rf = 0.05; sigma=0.2; tau=100/260\n",
    "bs_call(s0, k, rf, q, sigma, tau)"
   ]
  },
  {
   "cell_type": "code",
   "execution_count": 9,
   "metadata": {},
   "outputs": [],
   "source": [
    "'''Parameters'''\n",
    "inputs = {\n",
    "    's0' : 50000,\n",
    "    'k' : 55000,\n",
    "    'rf' : 0.04,\n",
    "    'sigma' : 0.4,\n",
    "    'imvol' : 0.,\n",
    "    'T' : 1,\n",
    "    'mu' : 0,\n",
    "    'q' : 0,\n",
    "    'interval' : 'Daily',\n",
    "    'time_step' : 20,\n",
    "    'simul_num' : 10000,\n",
    "    'num_shares' : 100000\n",
    "}"
   ]
  },
  {
   "cell_type": "code",
   "execution_count": 10,
   "metadata": {},
   "outputs": [],
   "source": [
    "dh = delta_hedging(inputs)"
   ]
  },
  {
   "cell_type": "code",
   "execution_count": 11,
   "metadata": {},
   "outputs": [
    {
     "data": {
      "text/plain": [
       "4.945099847804315"
      ]
     },
     "execution_count": 11,
     "metadata": {},
     "output_type": "execute_result"
    }
   ],
   "source": [
    "dh.bs_call('c')"
   ]
  }
 ],
 "metadata": {
  "kernelspec": {
   "display_name": "Python 3.8.13 ('quant')",
   "language": "python",
   "name": "python3"
  },
  "language_info": {
   "codemirror_mode": {
    "name": "ipython",
    "version": 3
   },
   "file_extension": ".py",
   "mimetype": "text/x-python",
   "name": "python",
   "nbconvert_exporter": "python",
   "pygments_lexer": "ipython3",
   "version": "3.8.13"
  },
  "orig_nbformat": 4,
  "vscode": {
   "interpreter": {
    "hash": "e7b6214bfe3ce19b2336b5ee82fe9739f68968628bd5eb86b17deae08d37c2fd"
   }
  }
 },
 "nbformat": 4,
 "nbformat_minor": 2
}
