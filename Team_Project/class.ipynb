{
 "cells": [
  {
   "cell_type": "code",
   "execution_count": 1,
   "metadata": {},
   "outputs": [],
   "source": [
    "import numpy as np\n",
    "import pandas as pd\n",
    "import os\n",
    "import datetime as dt\n",
    "from pykrx import stock\n",
    "\n",
    "from dateutil import relativedelta\n",
    "from warnings import filterwarnings\n",
    "filterwarnings('ignore')"
   ]
  },
  {
   "cell_type": "code",
   "execution_count": 4,
   "metadata": {},
   "outputs": [],
   "source": [
    "class Delta_Hedging:\n",
    "    \n",
    "    def __init__ (self):\n",
    "        \n",
    "        self.df = Load_Data\n",
    "\n",
    "class Load_Data:\n",
    "    \n",
    "    def __init__ (self):\n",
    "\n",
    "        self.kospi200 = stock.get_index_ohlcv('20070801', '20221130', '1028')['종가']\n",
    "        self.file_path = os.getcwd() + '/Data/'\n",
    "\n",
    "        self.df_close   = pd.read_pickle(self.file_path+'Call_data_close.pkl')\n",
    "        self.df_base    = pd.read_pickle(self.file_path+'Call_data_base.pkl')\n",
    "        self.df_volume  = pd.read_pickle(self.file_path+'Call_data_volume.pkl')\n",
    "        self.df_imvol   = pd.read_pickle(self.file_path+'Call_data_imvol.pkl')\n",
    "        self.df_open    = pd.read_pickle(self.file_path+'Call_data_open.pkl')\n",
    "\n",
    "        self.df_close2   = pd.read_pickle(self.file_path+'Put_data_close.pkl')\n",
    "        self.df_base2    = pd.read_pickle(self.file_path+'Put_data_base.pkl')\n",
    "        self.df_volume2  = pd.read_pickle(self.file_path+'Put_data_volume.pkl')\n",
    "        self.df_imvol2   = pd.read_pickle(self.file_path+'Put_data_imvol.pkl')\n",
    "        self.df_open2    = pd.read_pickle(self.file_path+'Put_data_open.pkl')\n",
    "\n",
    "        self.data_list = [self.df_close, self.df_base, self.df_volume, self.df_imvol, self.df_open,\\\n",
    "                    self.df_close2, self.df_base2, self.df_volume2, self.df_imvol2, self.df_open2]\n",
    "\n",
    "        self.test = []\n",
    "        self.ttt = ['종가', '기준가', '거래량', '내재변동성', '미결제약정', '종가', '기준가', '거래량', '내재변동성', '미결제약정']\n",
    "\n",
    "        for idx, dfdfdfdf in enumerate(self.data_list):\n",
    "\n",
    "            tmp = dfdfdfdf.iloc[8:]\n",
    "            tmp = tmp.set_axis(tmp.iloc[0], axis=1).drop(index=[8,9,10,11,12])\n",
    "\n",
    "            tmp = tmp.rename(columns={tmp.columns[0] : 'Date'}).set_index('Date')\n",
    "            tmp.index = pd.to_datetime(tmp.index)\n",
    "            tmp.columns = [self.ch(x) for x in tmp.columns]\n",
    "\n",
    "            k_list = [x[-5:] for x in tmp.columns]\n",
    "            t_list = [x[1:-5] for x in tmp.columns]\n",
    "            c_list = [x[0] for x in tmp.columns]\n",
    "            f_list = [self.ttt[idx] for x in tmp.columns]\n",
    "            ppp = pd.DataFrame(data=tmp.values, index=tmp.index, columns=[c_list, t_list, k_list, f_list])\n",
    "            self.test.append(ppp)\n",
    "\n",
    "        df = pd.concat(self.test, axis=1)#, keys=ttt)\n",
    "        #df.columns = df.columns.swaplevel(0, 1).swaplevel(1,2).swaplevel(2,3)     \n",
    "        self.df = df\n",
    "\n",
    "    def ch (name):\n",
    "        cptype = name[7:8]\n",
    "        maturity = name[9:15]\n",
    "        strike = name[16:]\n",
    "\n",
    "        return cptype+maturity+strike\n",
    "\n",
    "    def op_chain_df (cpflag, maturity, strike, data_list, s0=None):\n",
    "        \n",
    "        idx = (cpflag, str(maturity), str(strike))    \n",
    "        df = data_list[idx].dropna()\n",
    "\n",
    "        k = float(strike)\n",
    "\n",
    "        if s0 is None:\n",
    "            df['행사가격'] = [k for x in range(len(df))]\n",
    "            return df\n",
    "\n",
    "        else:\n",
    "            df['행사가격'] = [k for x in range(len(df))]\n",
    "            df['기초자산가'] = s0.loc[df.index]\n",
    "            return df\n",
    "\n",
    "\n",
    "    def option_date_creator (week, date):\n",
    "        '''마지막 만기 거래일이 나옴'''\n",
    "        base_date = dt.datetime.strptime(date, '%Y-%m')\n",
    "        option_date = base_date + relativedelta.relativedelta(weekday=3) + dt.timedelta(weeks=week)\n",
    "        option_date = option_date.strftime('%Y-%m-%d')\n",
    "\n",
    "        return option_date"
   ]
  },
  {
   "cell_type": "code",
   "execution_count": 7,
   "metadata": {},
   "outputs": [
    {
     "ename": "TypeError",
     "evalue": "ch() takes 1 positional argument but 2 were given",
     "output_type": "error",
     "traceback": [
      "\u001b[0;31m---------------------------------------------------------------------------\u001b[0m",
      "\u001b[0;31mTypeError\u001b[0m                                 Traceback (most recent call last)",
      "\u001b[1;32m/Users/Sun/Documents/Github/Derivatives-Trading-Strategy/Team_Project/class.ipynb 셀 3\u001b[0m in \u001b[0;36m<cell line: 1>\u001b[0;34m()\u001b[0m\n\u001b[0;32m----> <a href='vscode-notebook-cell:/Users/Sun/Documents/Github/Derivatives-Trading-Strategy/Team_Project/class.ipynb#W1sZmlsZQ%3D%3D?line=0'>1</a>\u001b[0m dh \u001b[39m=\u001b[39m Delta_Hedging(Load_Data())\n",
      "\u001b[1;32m/Users/Sun/Documents/Github/Derivatives-Trading-Strategy/Team_Project/class.ipynb 셀 3\u001b[0m in \u001b[0;36mLoad_Data.__init__\u001b[0;34m(self)\u001b[0m\n\u001b[1;32m     <a href='vscode-notebook-cell:/Users/Sun/Documents/Github/Derivatives-Trading-Strategy/Team_Project/class.ipynb#W1sZmlsZQ%3D%3D?line=36'>37</a>\u001b[0m tmp \u001b[39m=\u001b[39m tmp\u001b[39m.\u001b[39mrename(columns\u001b[39m=\u001b[39m{tmp\u001b[39m.\u001b[39mcolumns[\u001b[39m0\u001b[39m] : \u001b[39m'\u001b[39m\u001b[39mDate\u001b[39m\u001b[39m'\u001b[39m})\u001b[39m.\u001b[39mset_index(\u001b[39m'\u001b[39m\u001b[39mDate\u001b[39m\u001b[39m'\u001b[39m)\n\u001b[1;32m     <a href='vscode-notebook-cell:/Users/Sun/Documents/Github/Derivatives-Trading-Strategy/Team_Project/class.ipynb#W1sZmlsZQ%3D%3D?line=37'>38</a>\u001b[0m tmp\u001b[39m.\u001b[39mindex \u001b[39m=\u001b[39m pd\u001b[39m.\u001b[39mto_datetime(tmp\u001b[39m.\u001b[39mindex)\n\u001b[0;32m---> <a href='vscode-notebook-cell:/Users/Sun/Documents/Github/Derivatives-Trading-Strategy/Team_Project/class.ipynb#W1sZmlsZQ%3D%3D?line=38'>39</a>\u001b[0m tmp\u001b[39m.\u001b[39mcolumns \u001b[39m=\u001b[39m [\u001b[39mself\u001b[39m\u001b[39m.\u001b[39mch(x) \u001b[39mfor\u001b[39;00m x \u001b[39min\u001b[39;00m tmp\u001b[39m.\u001b[39mcolumns]\n\u001b[1;32m     <a href='vscode-notebook-cell:/Users/Sun/Documents/Github/Derivatives-Trading-Strategy/Team_Project/class.ipynb#W1sZmlsZQ%3D%3D?line=40'>41</a>\u001b[0m k_list \u001b[39m=\u001b[39m [x[\u001b[39m-\u001b[39m\u001b[39m5\u001b[39m:] \u001b[39mfor\u001b[39;00m x \u001b[39min\u001b[39;00m tmp\u001b[39m.\u001b[39mcolumns]\n\u001b[1;32m     <a href='vscode-notebook-cell:/Users/Sun/Documents/Github/Derivatives-Trading-Strategy/Team_Project/class.ipynb#W1sZmlsZQ%3D%3D?line=41'>42</a>\u001b[0m t_list \u001b[39m=\u001b[39m [x[\u001b[39m1\u001b[39m:\u001b[39m-\u001b[39m\u001b[39m5\u001b[39m] \u001b[39mfor\u001b[39;00m x \u001b[39min\u001b[39;00m tmp\u001b[39m.\u001b[39mcolumns]\n",
      "\u001b[1;32m/Users/Sun/Documents/Github/Derivatives-Trading-Strategy/Team_Project/class.ipynb 셀 3\u001b[0m in \u001b[0;36m<listcomp>\u001b[0;34m(.0)\u001b[0m\n\u001b[1;32m     <a href='vscode-notebook-cell:/Users/Sun/Documents/Github/Derivatives-Trading-Strategy/Team_Project/class.ipynb#W1sZmlsZQ%3D%3D?line=36'>37</a>\u001b[0m tmp \u001b[39m=\u001b[39m tmp\u001b[39m.\u001b[39mrename(columns\u001b[39m=\u001b[39m{tmp\u001b[39m.\u001b[39mcolumns[\u001b[39m0\u001b[39m] : \u001b[39m'\u001b[39m\u001b[39mDate\u001b[39m\u001b[39m'\u001b[39m})\u001b[39m.\u001b[39mset_index(\u001b[39m'\u001b[39m\u001b[39mDate\u001b[39m\u001b[39m'\u001b[39m)\n\u001b[1;32m     <a href='vscode-notebook-cell:/Users/Sun/Documents/Github/Derivatives-Trading-Strategy/Team_Project/class.ipynb#W1sZmlsZQ%3D%3D?line=37'>38</a>\u001b[0m tmp\u001b[39m.\u001b[39mindex \u001b[39m=\u001b[39m pd\u001b[39m.\u001b[39mto_datetime(tmp\u001b[39m.\u001b[39mindex)\n\u001b[0;32m---> <a href='vscode-notebook-cell:/Users/Sun/Documents/Github/Derivatives-Trading-Strategy/Team_Project/class.ipynb#W1sZmlsZQ%3D%3D?line=38'>39</a>\u001b[0m tmp\u001b[39m.\u001b[39mcolumns \u001b[39m=\u001b[39m [\u001b[39mself\u001b[39;49m\u001b[39m.\u001b[39;49mch(x) \u001b[39mfor\u001b[39;00m x \u001b[39min\u001b[39;00m tmp\u001b[39m.\u001b[39mcolumns]\n\u001b[1;32m     <a href='vscode-notebook-cell:/Users/Sun/Documents/Github/Derivatives-Trading-Strategy/Team_Project/class.ipynb#W1sZmlsZQ%3D%3D?line=40'>41</a>\u001b[0m k_list \u001b[39m=\u001b[39m [x[\u001b[39m-\u001b[39m\u001b[39m5\u001b[39m:] \u001b[39mfor\u001b[39;00m x \u001b[39min\u001b[39;00m tmp\u001b[39m.\u001b[39mcolumns]\n\u001b[1;32m     <a href='vscode-notebook-cell:/Users/Sun/Documents/Github/Derivatives-Trading-Strategy/Team_Project/class.ipynb#W1sZmlsZQ%3D%3D?line=41'>42</a>\u001b[0m t_list \u001b[39m=\u001b[39m [x[\u001b[39m1\u001b[39m:\u001b[39m-\u001b[39m\u001b[39m5\u001b[39m] \u001b[39mfor\u001b[39;00m x \u001b[39min\u001b[39;00m tmp\u001b[39m.\u001b[39mcolumns]\n",
      "\u001b[0;31mTypeError\u001b[0m: ch() takes 1 positional argument but 2 were given"
     ]
    }
   ],
   "source": [
    "dh = Delta_Hedging(Load_Data())"
   ]
  },
  {
   "cell_type": "code",
   "execution_count": null,
   "metadata": {},
   "outputs": [
    {
     "data": {
      "text/plain": [
       "<__main__.Delta_Hedging at 0x16994df70>"
      ]
     },
     "execution_count": 6,
     "metadata": {},
     "output_type": "execute_result"
    }
   ],
   "source": [
    "dh"
   ]
  }
 ],
 "metadata": {
  "kernelspec": {
   "display_name": "Python 3.8.13 ('quant')",
   "language": "python",
   "name": "python3"
  },
  "language_info": {
   "codemirror_mode": {
    "name": "ipython",
    "version": 3
   },
   "file_extension": ".py",
   "mimetype": "text/x-python",
   "name": "python",
   "nbconvert_exporter": "python",
   "pygments_lexer": "ipython3",
   "version": "3.8.13"
  },
  "orig_nbformat": 4,
  "vscode": {
   "interpreter": {
    "hash": "e7b6214bfe3ce19b2336b5ee82fe9739f68968628bd5eb86b17deae08d37c2fd"
   }
  }
 },
 "nbformat": 4,
 "nbformat_minor": 2
}
