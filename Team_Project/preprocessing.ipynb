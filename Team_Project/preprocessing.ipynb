{
 "cells": [
  {
   "cell_type": "code",
   "execution_count": 1,
   "metadata": {},
   "outputs": [],
   "source": [
    "import os\n",
    "import numpy as np\n",
    "import pandas as pd"
   ]
  },
  {
   "cell_type": "markdown",
   "metadata": {},
   "source": [
    "# Data 폴더의 파일 리스트 가져오기"
   ]
  },
  {
   "cell_type": "code",
   "execution_count": 13,
   "metadata": {},
   "outputs": [
    {
     "data": {
      "text/plain": [
       "['opt8.csv']"
      ]
     },
     "execution_count": 13,
     "metadata": {},
     "output_type": "execute_result"
    }
   ],
   "source": [
    "csv_list = []\n",
    "\n",
    "for x in os.listdir('Data'):\n",
    "    if x[-4:] == '.csv':\n",
    "        csv_list.append(x)\n",
    "\n",
    "csv_list"
   ]
  },
  {
   "cell_type": "markdown",
   "metadata": {},
   "source": [
    "# 리스트에서 하나씩 넣어서 뽑기 (함수)"
   ]
  },
  {
   "cell_type": "code",
   "execution_count": 213,
   "metadata": {},
   "outputs": [],
   "source": [
    "def ch (name):\n",
    "    cptype = name[7:8]\n",
    "    maturity = name[9:15]\n",
    "    strike = name[16:]\n",
    "\n",
    "    return cptype+maturity+strike\n",
    "\n",
    "def op_chain_df (file, cpflag, maturity, strike):\n",
    "    '''file is original csv 코드랑 같은 위치에 Data 폴더 안에 넣을 것, cpflag is str, maturity is str, strike is int'''\n",
    "    \n",
    "    file_path = os.getcwd() + '/Data/'\n",
    "\n",
    "    name = cpflag + str(maturity) + str(strike)\n",
    "\n",
    "    df = pd.read_csv(file_path + file)[8:]\n",
    "    df = df.set_axis(df.iloc[0], axis=1).drop(index=[8, 9, 10, 11, 12, 13])\n",
    "\n",
    "    df = df.rename(columns={df.columns[0]:'Date'}).set_index('Date')\n",
    "    \n",
    "    df.index = pd.to_datetime(df.index)\n",
    "    df.columns = [ch(x) for x in df.columns]\n",
    "\n",
    "    tmp = df[name]\n",
    "    tmp.columns = ['종가','기준가','기초자산가','거래량','행사가격','내재변동성','잔존일수']\n",
    "\n",
    "    return tmp\n",
    "\n",
    "def op_list (file):\n",
    "    \n",
    "    file_path = os.getcwd() + '/Data/'\n",
    "\n",
    "    df = pd.read_csv(file_path + file)[8:]\n",
    "    df = df.set_axis(df.iloc[0], axis=1).drop(index=[8, 9, 10, 11, 12, 13])\n",
    "\n",
    "    df = df.rename(columns={df.columns[0]:'Date'}).set_index('Date')\n",
    "\n",
    "    df.index = pd.to_datetime(df.index)\n",
    "    df.columns = [ch(x) for x in df.columns]\n",
    "\n",
    "    return list(df.columns.unique())"
   ]
  },
  {
   "cell_type": "code",
   "execution_count": 206,
   "metadata": {},
   "outputs": [
    {
     "data": {
      "text/plain": [
       "['C202208307.5',\n",
       " 'C202208310.0',\n",
       " 'C202208312.5',\n",
       " 'C202208315.0',\n",
       " 'C202208317.5',\n",
       " 'C202208320.0',\n",
       " 'P202208305.0',\n",
       " 'P202208302.5',\n",
       " 'P202208300.0',\n",
       " 'P202208297.5',\n",
       " 'P202208295.0',\n",
       " 'P202208292.5']"
      ]
     },
     "execution_count": 206,
     "metadata": {},
     "output_type": "execute_result"
    }
   ],
   "source": [
    "op_list(csv_list[0])"
   ]
  },
  {
   "cell_type": "code",
   "execution_count": 215,
   "metadata": {},
   "outputs": [
    {
     "data": {
      "text/html": [
       "<div>\n",
       "<style scoped>\n",
       "    .dataframe tbody tr th:only-of-type {\n",
       "        vertical-align: middle;\n",
       "    }\n",
       "\n",
       "    .dataframe tbody tr th {\n",
       "        vertical-align: top;\n",
       "    }\n",
       "\n",
       "    .dataframe thead th {\n",
       "        text-align: right;\n",
       "    }\n",
       "</style>\n",
       "<table border=\"1\" class=\"dataframe\">\n",
       "  <thead>\n",
       "    <tr style=\"text-align: right;\">\n",
       "      <th></th>\n",
       "      <th>종가</th>\n",
       "      <th>기준가</th>\n",
       "      <th>기초자산가</th>\n",
       "      <th>거래량</th>\n",
       "      <th>행사가격</th>\n",
       "      <th>내재변동성</th>\n",
       "      <th>잔존일수</th>\n",
       "    </tr>\n",
       "    <tr>\n",
       "      <th>Date</th>\n",
       "      <th></th>\n",
       "      <th></th>\n",
       "      <th></th>\n",
       "      <th></th>\n",
       "      <th></th>\n",
       "      <th></th>\n",
       "      <th></th>\n",
       "    </tr>\n",
       "  </thead>\n",
       "  <tbody>\n",
       "    <tr>\n",
       "      <th>2021-11-29</th>\n",
       "      <td>NaN</td>\n",
       "      <td>NaN</td>\n",
       "      <td>NaN</td>\n",
       "      <td>NaN</td>\n",
       "      <td>292.5</td>\n",
       "      <td>NaN</td>\n",
       "      <td>NaN</td>\n",
       "    </tr>\n",
       "    <tr>\n",
       "      <th>2021-11-30</th>\n",
       "      <td>NaN</td>\n",
       "      <td>NaN</td>\n",
       "      <td>NaN</td>\n",
       "      <td>NaN</td>\n",
       "      <td>292.5</td>\n",
       "      <td>NaN</td>\n",
       "      <td>NaN</td>\n",
       "    </tr>\n",
       "    <tr>\n",
       "      <th>2021-12-01</th>\n",
       "      <td>NaN</td>\n",
       "      <td>NaN</td>\n",
       "      <td>NaN</td>\n",
       "      <td>NaN</td>\n",
       "      <td>292.5</td>\n",
       "      <td>NaN</td>\n",
       "      <td>NaN</td>\n",
       "    </tr>\n",
       "    <tr>\n",
       "      <th>2021-12-02</th>\n",
       "      <td>NaN</td>\n",
       "      <td>NaN</td>\n",
       "      <td>NaN</td>\n",
       "      <td>NaN</td>\n",
       "      <td>292.5</td>\n",
       "      <td>NaN</td>\n",
       "      <td>NaN</td>\n",
       "    </tr>\n",
       "    <tr>\n",
       "      <th>2021-12-03</th>\n",
       "      <td>NaN</td>\n",
       "      <td>NaN</td>\n",
       "      <td>NaN</td>\n",
       "      <td>NaN</td>\n",
       "      <td>292.5</td>\n",
       "      <td>NaN</td>\n",
       "      <td>NaN</td>\n",
       "    </tr>\n",
       "    <tr>\n",
       "      <th>...</th>\n",
       "      <td>...</td>\n",
       "      <td>...</td>\n",
       "      <td>...</td>\n",
       "      <td>...</td>\n",
       "      <td>...</td>\n",
       "      <td>...</td>\n",
       "      <td>...</td>\n",
       "    </tr>\n",
       "    <tr>\n",
       "      <th>2022-11-24</th>\n",
       "      <td>0.01</td>\n",
       "      <td>0.01</td>\n",
       "      <td>329.92</td>\n",
       "      <td>23</td>\n",
       "      <td>292.5</td>\n",
       "      <td>0.514</td>\n",
       "      <td>1</td>\n",
       "    </tr>\n",
       "    <tr>\n",
       "      <th>2022-11-25</th>\n",
       "      <td>0.01</td>\n",
       "      <td>0.01</td>\n",
       "      <td>329.92</td>\n",
       "      <td>23</td>\n",
       "      <td>292.5</td>\n",
       "      <td>0.514</td>\n",
       "      <td>1</td>\n",
       "    </tr>\n",
       "    <tr>\n",
       "      <th>2022-11-26</th>\n",
       "      <td>0.01</td>\n",
       "      <td>0.01</td>\n",
       "      <td>329.92</td>\n",
       "      <td>23</td>\n",
       "      <td>292.5</td>\n",
       "      <td>0.514</td>\n",
       "      <td>1</td>\n",
       "    </tr>\n",
       "    <tr>\n",
       "      <th>2022-11-27</th>\n",
       "      <td>0.01</td>\n",
       "      <td>0.01</td>\n",
       "      <td>329.92</td>\n",
       "      <td>23</td>\n",
       "      <td>292.5</td>\n",
       "      <td>0.514</td>\n",
       "      <td>1</td>\n",
       "    </tr>\n",
       "    <tr>\n",
       "      <th>2022-11-28</th>\n",
       "      <td>0.01</td>\n",
       "      <td>0.01</td>\n",
       "      <td>329.92</td>\n",
       "      <td>23</td>\n",
       "      <td>292.5</td>\n",
       "      <td>0.514</td>\n",
       "      <td>1</td>\n",
       "    </tr>\n",
       "  </tbody>\n",
       "</table>\n",
       "<p>365 rows × 7 columns</p>\n",
       "</div>"
      ],
      "text/plain": [
       "              종가   기준가   기초자산가  거래량   행사가격  내재변동성 잔존일수\n",
       "Date                                                  \n",
       "2021-11-29   NaN   NaN     NaN  NaN  292.5    NaN  NaN\n",
       "2021-11-30   NaN   NaN     NaN  NaN  292.5    NaN  NaN\n",
       "2021-12-01   NaN   NaN     NaN  NaN  292.5    NaN  NaN\n",
       "2021-12-02   NaN   NaN     NaN  NaN  292.5    NaN  NaN\n",
       "2021-12-03   NaN   NaN     NaN  NaN  292.5    NaN  NaN\n",
       "...          ...   ...     ...  ...    ...    ...  ...\n",
       "2022-11-24  0.01  0.01  329.92   23  292.5  0.514    1\n",
       "2022-11-25  0.01  0.01  329.92   23  292.5  0.514    1\n",
       "2022-11-26  0.01  0.01  329.92   23  292.5  0.514    1\n",
       "2022-11-27  0.01  0.01  329.92   23  292.5  0.514    1\n",
       "2022-11-28  0.01  0.01  329.92   23  292.5  0.514    1\n",
       "\n",
       "[365 rows x 7 columns]"
      ]
     },
     "execution_count": 215,
     "metadata": {},
     "output_type": "execute_result"
    }
   ],
   "source": [
    "op_chain_df(csv_list[0], 'P', 202208, 292.5)"
   ]
  },
  {
   "cell_type": "code",
   "execution_count": null,
   "metadata": {},
   "outputs": [],
   "source": []
  }
 ],
 "metadata": {
  "kernelspec": {
   "display_name": "Python 3.8.13 ('quant')",
   "language": "python",
   "name": "python3"
  },
  "language_info": {
   "codemirror_mode": {
    "name": "ipython",
    "version": 3
   },
   "file_extension": ".py",
   "mimetype": "text/x-python",
   "name": "python",
   "nbconvert_exporter": "python",
   "pygments_lexer": "ipython3",
   "version": "3.8.13"
  },
  "orig_nbformat": 4,
  "vscode": {
   "interpreter": {
    "hash": "e7b6214bfe3ce19b2336b5ee82fe9739f68968628bd5eb86b17deae08d37c2fd"
   }
  }
 },
 "nbformat": 4,
 "nbformat_minor": 2
}
