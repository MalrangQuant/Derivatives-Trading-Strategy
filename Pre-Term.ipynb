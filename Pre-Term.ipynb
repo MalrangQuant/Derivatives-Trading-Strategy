{
 "cells": [
  {
   "cell_type": "code",
   "execution_count": 279,
   "metadata": {},
   "outputs": [],
   "source": [
    "import numpy as np\n",
    "import pandas as pd\n",
    "import matplotlib.pyplot as plt\n",
    "\n",
    "from scipy.stats import norm\n",
    "from warnings import filterwarnings\n",
    "\n",
    "from delta_heding import delta_hedging\n",
    "\n",
    "np.set_printoptions(precision=10, suppress=True)"
   ]
  },
  {
   "cell_type": "code",
   "execution_count": 69,
   "metadata": {},
   "outputs": [],
   "source": [
    "'''Parameters'''\n",
    "inputs = {\n",
    "    's0' : 49,\n",
    "    'k' : 50,\n",
    "    'rf' : 0.05,\n",
    "    'sigma' : 0.2,\n",
    "    'imvol' : 0.2,\n",
    "    'T' : 1,\n",
    "    'mu' : 0.13,\n",
    "    'q' : 0,\n",
    "    'interval' : 1/52,\n",
    "    'time_step' : 20,\n",
    "    'simul_num' : 10000,\n",
    "    'num_shares' : 100000\n",
    "}"
   ]
  },
  {
   "cell_type": "code",
   "execution_count": 72,
   "metadata": {},
   "outputs": [
    {
     "data": {
      "text/plain": [
       "2.4375090948462352"
      ]
     },
     "execution_count": 72,
     "metadata": {},
     "output_type": "execute_result"
    }
   ],
   "source": [
    "dh = delta_hedging(inputs)\n",
    "dh.hedging_cost().mean()"
   ]
  },
  {
   "cell_type": "code",
   "execution_count": 108,
   "metadata": {},
   "outputs": [
    {
     "data": {
      "text/plain": [
       "array([[49.        , 49.        , 49.        , ..., 49.        ,\n",
       "        49.        , 49.        ],\n",
       "       [50.00072171, 49.1339912 , 49.73590216, ..., 46.83950973,\n",
       "        48.81382304, 49.75173932],\n",
       "       [49.44015818, 49.84700501, 48.38279151, ..., 47.36581304,\n",
       "        48.41763696, 50.36473286],\n",
       "       ...,\n",
       "       [60.53628158, 56.19604059, 57.71828454, ..., 41.0772936 ,\n",
       "        57.05917902, 54.82043891],\n",
       "       [62.20802881, 55.8599315 , 58.16261092, ..., 39.69770014,\n",
       "        57.09121606, 57.64300761],\n",
       "       [62.69229552, 55.63181124, 59.06276658, ..., 40.36293711,\n",
       "        56.98690506, 58.91838343]])"
      ]
     },
     "execution_count": 108,
     "metadata": {},
     "output_type": "execute_result"
    }
   ],
   "source": [
    "stock_path = dh.stock_path()\n",
    "stock_path"
   ]
  },
  {
   "cell_type": "code",
   "execution_count": 109,
   "metadata": {},
   "outputs": [
    {
     "data": {
      "text/plain": [
       "array([[0.522, 0.522, 0.522, ..., 0.522, 0.522, 0.522],\n",
       "       [0.584, 0.527, 0.567, ..., 0.371, 0.505, 0.568],\n",
       "       [0.544, 0.571, 0.471, ..., 0.4  , 0.473, 0.606],\n",
       "       ...,\n",
       "       [1.   , 0.999, 1.   , ..., 0.   , 1.   , 0.992],\n",
       "       [1.   , 1.   , 1.   , ..., 0.   , 1.   , 1.   ],\n",
       "       [1.   , 1.   , 1.   , ..., 0.   , 1.   , 1.   ]])"
      ]
     },
     "execution_count": 109,
     "metadata": {},
     "output_type": "execute_result"
    }
   ],
   "source": [
    "delta_path = np.round(dh.path_delta(stock_path),3)\n",
    "delta_path"
   ]
  },
  {
   "cell_type": "code",
   "execution_count": 211,
   "metadata": {},
   "outputs": [
    {
     "data": {
      "text/plain": [
       "array([[ 52200.,  52200.,  52200., ...,  52200.,  52200.,  52200.],\n",
       "       [ 58400.,  52700.,  56700., ...,  37100.,  50500.,  56800.],\n",
       "       [ 54400.,  57100.,  47100., ...,  40000.,  47300.,  60600.],\n",
       "       ...,\n",
       "       [100000.,  99900., 100000., ...,      0., 100000.,  99200.],\n",
       "       [100000., 100000., 100000., ...,      0., 100000., 100000.],\n",
       "       [100000., 100000., 100000., ...,      0., 100000., 100000.]])"
      ]
     },
     "execution_count": 211,
     "metadata": {},
     "output_type": "execute_result"
    }
   ],
   "source": [
    "delta_path_shares = delta_path * inputs['num_shares']\n",
    "delta_path_shares"
   ]
  },
  {
   "cell_type": "code",
   "execution_count": 214,
   "metadata": {},
   "outputs": [
    {
     "data": {
      "text/plain": [
       "array([[ 52200.,  52200.,  52200., ...,  52200.,  52200.,  52200.],\n",
       "       [  6200.,    500.,   4500., ..., -15100.,  -1700.,   4600.],\n",
       "       [ -4000.,   4400.,  -9600., ...,   2900.,  -3200.,   3800.],\n",
       "       ...,\n",
       "       [     0.,    500.,    100., ...,   -200.,    400.,    900.],\n",
       "       [     0.,    100.,      0., ...,      0.,      0.,    800.],\n",
       "       [     0.,      0.,      0., ...,      0.,      0.,      0.]])"
      ]
     },
     "execution_count": 214,
     "metadata": {},
     "output_type": "execute_result"
    }
   ],
   "source": [
    "delta_path_shares_ch = np.vstack([delta_path_shares[0], delta_path_shares[1:] - delta_path_shares[:-1]])\n",
    "delta_path_shares_ch"
   ]
  },
  {
   "cell_type": "code",
   "execution_count": 218,
   "metadata": {},
   "outputs": [
    {
     "data": {
      "text/plain": [
       "array([[2557.8, 2557.8, 2557.8, ..., 2557.8, 2557.8, 2557.8],\n",
       "       [ 310. ,   24.6,  223.8, ..., -707.3,  -83. ,  228.9],\n",
       "       [-197.8,  219.3, -464.5, ...,  137.4, -154.9,  191.4],\n",
       "       ...,\n",
       "       [   0. ,   28.1,    5.8, ...,   -8.2,   22.8,   49.3],\n",
       "       [   0. ,    5.6,    0. , ...,    0. ,    0. ,   46.1],\n",
       "       [   0. ,    0. ,    0. , ...,    0. ,    0. ,    0. ]])"
      ]
     },
     "execution_count": 218,
     "metadata": {},
     "output_type": "execute_result"
    }
   ],
   "source": [
    "delta_path_cost_shares_ch = np.round((delta_path_shares_ch * stock_path / 1000), 1)\n",
    "delta_path_cost_shares_ch"
   ]
  },
  {
   "cell_type": "code",
   "execution_count": 285,
   "metadata": {},
   "outputs": [],
   "source": [
    "delta_path_cumcost = np.repeat(delta_path_cost_shares_ch[0], stock_path.shape[0]).reshape(-1, stock_path.shape[1])\n",
    "upper = (1 + inputs['rf']*1/52)\n",
    "\n",
    "for x in range(0, delta_path_cost_shares_ch.shape[1]):\n",
    "    for idx in range(delta_path_cost_shares_ch[:,x].shape[0]-1):\n",
    "        delta_path_cumcost[idx+1, x] = np.round(delta_path_cumcost[idx,x] * upper + delta_path_cost_shares_ch[idx+1, x])\n",
    "\n"
   ]
  },
  {
   "cell_type": "code",
   "execution_count": 286,
   "metadata": {},
   "outputs": [
    {
     "data": {
      "text/plain": [
       "array([[2557.8, 2557.8, 2557.8, ..., 2557.8, 2557.8, 2557.8],\n",
       "       [2870. , 2585. , 2784. , ..., 1853. , 2477. , 2789. ],\n",
       "       [2675. , 2807. , 2322. , ..., 1992. , 2324. , 2983. ],\n",
       "       ...,\n",
       "       [5237. , 5226. , 5222. , ...,  208. , 5226. , 5159. ],\n",
       "       [5242. , 5237. , 5227. , ...,  208. , 5231. , 5210. ],\n",
       "       [5247. , 5242. , 5232. , ...,  208. , 5236. , 5215. ]])"
      ]
     },
     "execution_count": 286,
     "metadata": {},
     "output_type": "execute_result"
    }
   ],
   "source": [
    "delta_path_cumcost"
   ]
  },
  {
   "cell_type": "code",
   "execution_count": 294,
   "metadata": {},
   "outputs": [
    {
     "data": {
      "text/plain": [
       "array([[2.5, 2.5, 2.5, ..., 2.5, 2.5, 2.5],\n",
       "       [2.8, 2.5, 2.7, ..., 1.8, 2.4, 2.7],\n",
       "       [2.6, 2.7, 2.2, ..., 1.9, 2.2, 2.9],\n",
       "       ...,\n",
       "       [5. , 5. , 5. , ..., 0.2, 5. , 5. ],\n",
       "       [5. , 5. , 5. , ..., 0.2, 5. , 5. ],\n",
       "       [5. , 5. , 5. , ..., 0.2, 5. , 5. ]])"
      ]
     },
     "execution_count": 294,
     "metadata": {},
     "output_type": "execute_result"
    }
   ],
   "source": [
    "int_cost = np.round(delta_path_cumcost * (1/52 * 0.05), 1)\n",
    "int_cost"
   ]
  },
  {
   "cell_type": "code",
   "execution_count": 304,
   "metadata": {},
   "outputs": [
    {
     "name": "stdout",
     "output_type": "stream",
     "text": [
      "mean :  246.4\n"
     ]
    }
   ],
   "source": [
    "index0_df = pd.DataFrame(data=[stock_path[:,0], delta_path[:,0], delta_path_shares_ch[:,0], delta_path_cost_shares_ch[:,0], delta_path_cumcost[:,0], int_cost[:,0]],\\\n",
    "                         index=['Stock_Price', 'Delta', 'Shares Purchased', 'Cost of Shares Purchased', 'Cummulative Cost', 'Interest Cost']).T\n",
    "\n",
    "#index0_df\n",
    "print('mean : ', np.round(index0_df['Cost of Shares Purchased'].mean(), 1), sep=' ')"
   ]
  },
  {
   "cell_type": "code",
   "execution_count": 302,
   "metadata": {},
   "outputs": [
    {
     "data": {
      "text/plain": [
       "246.44285714285715"
      ]
     },
     "execution_count": 302,
     "metadata": {},
     "output_type": "execute_result"
    }
   ],
   "source": [
    "index0_df['Cost of Shares Purchased'].mean()"
   ]
  },
  {
   "cell_type": "code",
   "execution_count": 240,
   "metadata": {},
   "outputs": [
    {
     "data": {
      "text/plain": [
       "2252.259423076923"
      ]
     },
     "execution_count": 240,
     "metadata": {},
     "output_type": "execute_result"
    }
   ],
   "source": [
    "upper = (1 + inputs['rf']*1/52)\n",
    "upper * 2557.8 - 308"
   ]
  },
  {
   "cell_type": "code",
   "execution_count": null,
   "metadata": {},
   "outputs": [],
   "source": [
    "check"
   ]
  },
  {
   "cell_type": "code",
   "execution_count": 222,
   "metadata": {},
   "outputs": [
    {
     "data": {
      "text/plain": [
       "2252.259423076923"
      ]
     },
     "execution_count": 222,
     "metadata": {},
     "output_type": "execute_result"
    }
   ],
   "source": [
    "2557.8 * (1/52 * 0.05 + 1) - 308"
   ]
  },
  {
   "cell_type": "code",
   "execution_count": 223,
   "metadata": {},
   "outputs": [
    {
     "data": {
      "text/plain": [
       "1979.7656730769233"
      ]
     },
     "execution_count": 223,
     "metadata": {},
     "output_type": "execute_result"
    }
   ],
   "source": [
    "2252.3 * (1/52 * 0.05 + 1) - 274.7"
   ]
  },
  {
   "cell_type": "code",
   "execution_count": null,
   "metadata": {},
   "outputs": [],
   "source": []
  },
  {
   "cell_type": "code",
   "execution_count": 130,
   "metadata": {},
   "outputs": [
    {
     "data": {
      "text/plain": [
       "array([[ 0.522,  0.522,  0.522, ...,  0.522,  0.522,  0.522],\n",
       "       [ 0.062,  0.005,  0.045, ..., -0.151, -0.017,  0.046],\n",
       "       [-0.04 ,  0.044, -0.096, ...,  0.029, -0.032,  0.038],\n",
       "       ...,\n",
       "       [ 0.   ,  0.005,  0.001, ..., -0.002,  0.004,  0.009],\n",
       "       [ 0.   ,  0.001,  0.   , ...,  0.   ,  0.   ,  0.008],\n",
       "       [ 0.   ,  0.   ,  0.   , ...,  0.   ,  0.   ,  0.   ]])"
      ]
     },
     "execution_count": 130,
     "metadata": {},
     "output_type": "execute_result"
    }
   ],
   "source": [
    "delta_path_ch = np.vstack([delta_path[0], delta_path[1:] - delta_path[:-1]])\n",
    "delta_path_ch"
   ]
  },
  {
   "cell_type": "code",
   "execution_count": 131,
   "metadata": {},
   "outputs": [
    {
     "data": {
      "text/plain": [
       "array([[ 52200.,  52200.,  52200., ...,  52200.,  52200.,  52200.],\n",
       "       [  6200.,    500.,   4500., ..., -15100.,  -1700.,   4600.],\n",
       "       [ -4000.,   4400.,  -9600., ...,   2900.,  -3200.,   3800.],\n",
       "       ...,\n",
       "       [     0.,    500.,    100., ...,   -200.,    400.,    900.],\n",
       "       [     0.,    100.,      0., ...,      0.,      0.,    800.],\n",
       "       [     0.,      0.,      0., ...,      0.,      0.,      0.]])"
      ]
     },
     "execution_count": 131,
     "metadata": {},
     "output_type": "execute_result"
    }
   ],
   "source": [
    "delta_path_ch * inputs['num_shares']"
   ]
  },
  {
   "cell_type": "code",
   "execution_count": 206,
   "metadata": {},
   "outputs": [
    {
     "data": {
      "text/plain": [
       "308000.0"
      ]
     },
     "execution_count": 206,
     "metadata": {},
     "output_type": "execute_result"
    }
   ],
   "source": [
    "6400 * 48.125"
   ]
  },
  {
   "cell_type": "code",
   "execution_count": null,
   "metadata": {},
   "outputs": [],
   "source": [
    "for row in delta_path:\n",
    "    "
   ]
  },
  {
   "cell_type": "code",
   "execution_count": 137,
   "metadata": {},
   "outputs": [
    {
     "data": {
      "text/plain": [
       "array([[2557.8, 2557.8, 2557.8, ..., 2557.8, 2557.8, 2557.8],\n",
       "       [ 310. ,   24.6,  223.8, ..., -707.3,  -83. ,  228.9],\n",
       "       [-197.8,  219.3, -464.5, ...,  137.4, -154.9,  191.4],\n",
       "       ...,\n",
       "       [   0. ,   28.1,    5.8, ...,   -8.2,   22.8,   49.3],\n",
       "       [   0. ,    5.6,    0. , ...,    0. ,    0. ,   46.1],\n",
       "       [   0. ,    0. ,    0. , ...,    0. ,    0. ,    0. ]])"
      ]
     },
     "execution_count": 137,
     "metadata": {},
     "output_type": "execute_result"
    }
   ],
   "source": [
    "delta_path_ch_cost = np.round((delta_path_ch * inputs['num_shares'] * stock_path) / 1000, 1)\n",
    "delta_path_ch_cost"
   ]
  },
  {
   "cell_type": "code",
   "execution_count": 181,
   "metadata": {},
   "outputs": [
    {
     "data": {
      "text/plain": [
       "array([[2557.8, 2557.8, 2557.8, ..., 2557.8, 2557.8, 2557.8],\n",
       "       [2867.8, 2582.4, 2781.6, ..., 1850.5, 2474.8, 2786.7],\n",
       "       [2670. , 2801.7, 2317.1, ..., 1987.9, 2319.9, 2978.1],\n",
       "       ...,\n",
       "       [5175.3, 5159.5, 5154. , ...,  178.2, 5160.7, 5091.9],\n",
       "       [5175.3, 5165.1, 5154. , ...,  178.2, 5160.7, 5138. ],\n",
       "       [5175.3, 5165.1, 5154. , ...,  178.2, 5160.7, 5138. ]])"
      ]
     },
     "execution_count": 181,
     "metadata": {},
     "output_type": "execute_result"
    }
   ],
   "source": [
    "np.round(delta_path_ch_cost.cumsum(axis=0), 1)"
   ]
  },
  {
   "cell_type": "code",
   "execution_count": 185,
   "metadata": {},
   "outputs": [
    {
     "data": {
      "text/plain": [
       "307.95942307692303"
      ]
     },
     "execution_count": 185,
     "metadata": {},
     "output_type": "execute_result"
    }
   ],
   "source": [
    "2557.8*(1+0.05/52) - 2252.3"
   ]
  },
  {
   "cell_type": "code",
   "execution_count": 189,
   "metadata": {},
   "outputs": [
    {
     "data": {
      "text/plain": [
       "array([[ 52200.,  52200.,  52200., ...,  52200.,  52200.,  52200.],\n",
       "       [ 58400.,  52700.,  56700., ...,  37100.,  50500.,  56800.],\n",
       "       [ 54400.,  57100.,  47100., ...,  40000.,  47300.,  60600.],\n",
       "       ...,\n",
       "       [100000.,  99900., 100000., ...,      0., 100000.,  99200.],\n",
       "       [100000., 100000., 100000., ...,      0., 100000., 100000.],\n",
       "       [100000., 100000., 100000., ...,      0., 100000., 100000.]])"
      ]
     },
     "execution_count": 189,
     "metadata": {},
     "output_type": "execute_result"
    }
   ],
   "source": [
    "delta_path * inputs['num_shares'] "
   ]
  },
  {
   "cell_type": "code",
   "execution_count": 187,
   "metadata": {},
   "outputs": [
    {
     "data": {
      "text/plain": [
       "0.29615384615384616"
      ]
     },
     "execution_count": 187,
     "metadata": {},
     "output_type": "execute_result"
    }
   ],
   "source": [
    "308 * (1/52 * 0.05)"
   ]
  },
  {
   "cell_type": "code",
   "execution_count": 186,
   "metadata": {},
   "outputs": [
    {
     "data": {
      "text/plain": [
       "305.5"
      ]
     },
     "execution_count": 186,
     "metadata": {},
     "output_type": "execute_result"
    }
   ],
   "source": [
    "2557.8 - 2252.3"
   ]
  },
  {
   "cell_type": "code",
   "execution_count": 167,
   "metadata": {},
   "outputs": [
    {
     "data": {
      "text/plain": [
       "1979.6656730769234"
      ]
     },
     "execution_count": 167,
     "metadata": {},
     "output_type": "execute_result"
    }
   ],
   "source": [
    "(0.05 * (1/52) + 1) * 2252.3 - 274.8"
   ]
  },
  {
   "cell_type": "code",
   "execution_count": 143,
   "metadata": {},
   "outputs": [
    {
     "data": {
      "text/plain": [
       "30852.383052687346"
      ]
     },
     "execution_count": 143,
     "metadata": {},
     "output_type": "execute_result"
    }
   ],
   "source": [
    "2557.8 * np.exp(2.5) - 308"
   ]
  },
  {
   "cell_type": "code",
   "execution_count": 107,
   "metadata": {},
   "outputs": [
    {
     "data": {
      "text/plain": [
       "array([[49.        , 49.        , 49.        , ..., 49.        ,\n",
       "        49.        , 49.        ],\n",
       "       [48.80996289, 47.50632208, 47.44643131, ..., 47.21358382,\n",
       "        50.18212083, 46.82443005],\n",
       "       [48.07108216, 47.27932705, 48.71229157, ..., 45.70690829,\n",
       "        50.77021185, 46.88929914],\n",
       "       ...,\n",
       "       [62.21978728, 43.67475246, 45.8479696 , ..., 51.73495004,\n",
       "        48.83997365, 51.41686824],\n",
       "       [65.08140814, 45.42376634, 45.9673953 , ..., 52.3353258 ,\n",
       "        49.50229101, 50.35652774],\n",
       "       [64.50525662, 45.35932124, 46.68778913, ..., 50.15900258,\n",
       "        50.75476336, 50.6317454 ]])"
      ]
     },
     "execution_count": 107,
     "metadata": {},
     "output_type": "execute_result"
    }
   ],
   "source": [
    "dh.stock_path()"
   ]
  },
  {
   "cell_type": "code",
   "execution_count": 103,
   "metadata": {},
   "outputs": [
    {
     "data": {
      "text/plain": [
       "array([2557.8, 2827.3, 2665.6])"
      ]
     },
     "execution_count": 103,
     "metadata": {},
     "output_type": "execute_result"
    }
   ],
   "source": [
    "delta_path * stock_path"
   ]
  },
  {
   "cell_type": "code",
   "execution_count": 104,
   "metadata": {},
   "outputs": [
    {
     "data": {
      "text/plain": [
       "269.5"
      ]
     },
     "execution_count": 104,
     "metadata": {},
     "output_type": "execute_result"
    }
   ],
   "source": [
    "2827.3-2557.8"
   ]
  },
  {
   "cell_type": "code",
   "execution_count": 91,
   "metadata": {},
   "outputs": [
    {
     "data": {
      "text/plain": [
       "25578000"
      ]
     },
     "execution_count": 91,
     "metadata": {},
     "output_type": "execute_result"
    }
   ],
   "source": [
    "25578000"
   ]
  },
  {
   "cell_type": "code",
   "execution_count": 88,
   "metadata": {},
   "outputs": [
    {
     "data": {
      "text/plain": [
       "20.408163265306122"
      ]
     },
     "execution_count": 88,
     "metadata": {},
     "output_type": "execute_result"
    }
   ],
   "source": [
    "52200 / 2557.8"
   ]
  },
  {
   "cell_type": "code",
   "execution_count": 87,
   "metadata": {},
   "outputs": [
    {
     "data": {
      "text/plain": [
       "array([[0.478, 0.478, 0.478, ..., 0.478, 0.478, 0.478],\n",
       "       [0.423, 0.571, 0.476, ..., 0.329, 0.659, 0.385],\n",
       "       [0.456, 0.62 , 0.424, ..., 0.288, 0.617, 0.421],\n",
       "       ...,\n",
       "       [0.62 , 0.8  , 1.   , ..., 0.   , 0.227, 0.981],\n",
       "       [0.943, 0.878, 1.   , ..., 0.   , 0.392, 1.   ],\n",
       "       [1.   , 1.   , 1.   , ..., 0.   , 1.   , 1.   ]])"
      ]
     },
     "execution_count": 87,
     "metadata": {},
     "output_type": "execute_result"
    }
   ],
   "source": [
    "1 - delta_path"
   ]
  },
  {
   "cell_type": "code",
   "execution_count": 10,
   "metadata": {},
   "outputs": [],
   "source": [
    "\n",
    "class delta_hedging_test:\n",
    "\n",
    "    def __init__(self, **input):\n",
    " \n",
    "        self.s0         = input['s0']               # 현재가격\n",
    "        self.k          = input['k']                # 행사가격\n",
    "        self.rf         = input['rf']               # 무위험이자율\n",
    "        self.sigma      = input['sigma']            # 변동성\n",
    "        self.mu         = input['mu']               # 평균수익률\n",
    "        self.T          = input['T']                # 투자기간\n",
    "        self.q          = input['q']                # 배당금 \n",
    "        self.iv         = input['imvol']            # 내재변동성\n",
    "\n",
    "        self.interval   = input['interval']         # T의 기간 텀\n",
    "        self.time_step  = input['time_step']        # Investment Horizon\n",
    "        self.simul      = input['simul_num']        # 시뮬레이션 횟수\n",
    "\n",
    "        if self.interval == 'weekly':               \n",
    "            self.dt = self.T / 52                   \n",
    "        elif self.interval == 'daily':\n",
    "            self.dt = self.T / 250\n",
    "        else:\n",
    "            self.dt = input['interval']\n",
    "        \n",
    "        self.tau        = self.time_step * self.dt\n",
    "        self.tau_arr    = (np.flip(np.arange(0, self.time_step+1)) * self.dt).reshape(-1,1)"
   ]
  },
  {
   "cell_type": "code",
   "execution_count": 34,
   "metadata": {},
   "outputs": [],
   "source": [
    "class test:\n",
    "    def __init__ (self, **kwargs):\n",
    "        for key, values in kwargs.items():\n",
    "            globals()['{}'.format(self.key)] = values\n",
    "            print(f'{key} : {values}')"
   ]
  },
  {
   "cell_type": "code",
   "execution_count": 67,
   "metadata": {},
   "outputs": [],
   "source": [
    "class test:\n",
    "    def __init__ (self, s0, k, r, sigma, T, mu, interval **input):\n",
    "        self.s0 = s0\n",
    "        self.k  = k\n",
    "    \n",
    "        self.__dict__.update(input)"
   ]
  },
  {
   "cell_type": "code",
   "execution_count": null,
   "metadata": {},
   "outputs": [],
   "source": [
    ")"
   ]
  },
  {
   "cell_type": "code",
   "execution_count": 64,
   "metadata": {},
   "outputs": [
    {
     "name": "stdout",
     "output_type": "stream",
     "text": [
      "{'s0': 49, 'k': 50, 'rf': 0.05, 'sigma': 0.2, 'imvol': 0.2, 'T': 1, 'mu': 0.13, 'q': 0, 'interval': 0.019230769230769232, 'time_step': 20, 'simul_num': 10000, 'num_shares': 100000}\n",
      "12\n"
     ]
    }
   ],
   "source": [
    "a = test(s0 = 49,\n",
    "    k = 50,\n",
    "    rf = 0.05,\n",
    "    sigma = 0.2,\n",
    "    imvol = 0.2,\n",
    "    T = 1,\n",
    "    mu = 0.13,\n",
    "    q = 0,\n",
    "    interval = 1/52,\n",
    "    time_step = 20,\n",
    "    simul_num = 10000,\n",
    "    num_shares = 100000)"
   ]
  },
  {
   "cell_type": "code",
   "execution_count": 65,
   "metadata": {},
   "outputs": [
    {
     "data": {
      "text/plain": [
       "49"
      ]
     },
     "execution_count": 65,
     "metadata": {},
     "output_type": "execute_result"
    }
   ],
   "source": [
    "a.s0"
   ]
  },
  {
   "cell_type": "code",
   "execution_count": 30,
   "metadata": {},
   "outputs": [
    {
     "name": "stdout",
     "output_type": "stream",
     "text": [
      "s0 : 49\n",
      "k : 50\n",
      "rf : 0.05\n",
      "sigma : 0.2\n",
      "imvol : 0.2\n",
      "T : 1\n",
      "mu : 0.13\n",
      "q : 0\n",
      "interval : 0.019230769230769232\n",
      "time_step : 20\n",
      "simul_num : 10000\n",
      "num_shares : 100000\n"
     ]
    }
   ],
   "source": [
    "for key, values in inputs.items():\n",
    "            print(f'{key} : {values}')"
   ]
  },
  {
   "cell_type": "code",
   "execution_count": 36,
   "metadata": {},
   "outputs": [
    {
     "ename": "TypeError",
     "evalue": "__init__() takes 1 positional argument but 2 were given",
     "output_type": "error",
     "traceback": [
      "\u001b[0;31m---------------------------------------------------------------------------\u001b[0m",
      "\u001b[0;31mTypeError\u001b[0m                                 Traceback (most recent call last)",
      "\u001b[1;32m/Users/Sun/Documents/Github/Derivatives-Trading-Strategy/Pre-Term.ipynb 셀 7\u001b[0m in \u001b[0;36m<cell line: 1>\u001b[0;34m()\u001b[0m\n\u001b[0;32m----> <a href='vscode-notebook-cell:/Users/Sun/Documents/Github/Derivatives-Trading-Strategy/Pre-Term.ipynb#X10sZmlsZQ%3D%3D?line=0'>1</a>\u001b[0m test(inputs)\n",
      "\u001b[0;31mTypeError\u001b[0m: __init__() takes 1 positional argument but 2 were given"
     ]
    }
   ],
   "source": [
    "test(inputs)"
   ]
  },
  {
   "cell_type": "code",
   "execution_count": 14,
   "metadata": {},
   "outputs": [
    {
     "ename": "TypeError",
     "evalue": "__init__() takes 1 positional argument but 2 were given",
     "output_type": "error",
     "traceback": [
      "\u001b[0;31m---------------------------------------------------------------------------\u001b[0m",
      "\u001b[0;31mTypeError\u001b[0m                                 Traceback (most recent call last)",
      "\u001b[1;32m/Users/Sun/Documents/Github/Derivatives-Trading-Strategy/Pre-Term.ipynb 셀 5\u001b[0m in \u001b[0;36m<cell line: 1>\u001b[0;34m()\u001b[0m\n\u001b[0;32m----> <a href='vscode-notebook-cell:/Users/Sun/Documents/Github/Derivatives-Trading-Strategy/Pre-Term.ipynb#W5sZmlsZQ%3D%3D?line=0'>1</a>\u001b[0m delta_hedging_test(inputs)\n",
      "\u001b[0;31mTypeError\u001b[0m: __init__() takes 1 positional argument but 2 were given"
     ]
    }
   ],
   "source": [
    "delta_hedging_test(inputs)"
   ]
  }
 ],
 "metadata": {
  "kernelspec": {
   "display_name": "Python 3.8.13 ('quant')",
   "language": "python",
   "name": "python3"
  },
  "language_info": {
   "codemirror_mode": {
    "name": "ipython",
    "version": 3
   },
   "file_extension": ".py",
   "mimetype": "text/x-python",
   "name": "python",
   "nbconvert_exporter": "python",
   "pygments_lexer": "ipython3",
   "version": "3.8.13"
  },
  "orig_nbformat": 4,
  "vscode": {
   "interpreter": {
    "hash": "e7b6214bfe3ce19b2336b5ee82fe9739f68968628bd5eb86b17deae08d37c2fd"
   }
  }
 },
 "nbformat": 4,
 "nbformat_minor": 2
}
